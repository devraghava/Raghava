{
 "cells": [
  {
   "cell_type": "markdown",
   "id": "71b44117-4c4a-4942-92d1-7317b612eea5",
   "metadata": {},
   "source": [
    "# Data Science Tools and Ecosystem"
   ]
  },
  {
   "cell_type": "markdown",
   "id": "9eb08fcb-25a1-4ef1-a819-8a5555d8c858",
   "metadata": {},
   "source": [
    "In this notebook, Data Science Tools and Ecosystem are summarized."
   ]
  },
  {
   "cell_type": "markdown",
   "id": "3944945f-6b0d-4630-b8a2-b23ed0e52d86",
   "metadata": {},
   "source": [
    "Some of the popular languages that Data Scientists use are:\n",
    "1. Python\n",
    "2. Java\n",
    "3. SQL\n",
    "4. R"
   ]
  },
  {
   "cell_type": "markdown",
   "id": "136b6355-30a7-4dee-9f1a-dc23bfa17763",
   "metadata": {},
   "source": [
    "Some of the commonly used libraries used by Data Scientists include:\n",
    "1. Numpy\n",
    "2. MatPlotLib\n",
    "3. TensorFLow"
   ]
  },
  {
   "cell_type": "markdown",
   "id": "d2aed5e8-f4ec-4d57-8b99-c588af6a73e8",
   "metadata": {},
   "source": [
    "|Data Science Tools|\n",
    "|---|\n",
    "|Apache Hadoop|\n",
    "|Git|\n",
    "|Apache Spark|"
   ]
  },
  {
   "cell_type": "markdown",
   "id": "b404ee1c-e82b-4463-a98e-2a28e8a31465",
   "metadata": {},
   "source": [
    "### Below are a few examples of evaluating arithmetic expressions in Python"
   ]
  },
  {
   "cell_type": "code",
   "execution_count": 3,
   "id": "1be1152b-5157-4c7d-9db1-eb1501402fd7",
   "metadata": {},
   "outputs": [
    {
     "data": {
      "text/plain": [
       "17"
      ]
     },
     "execution_count": 3,
     "metadata": {},
     "output_type": "execute_result"
    }
   ],
   "source": [
    "# This a simple arithmetic expression to mutiply then add integers\n",
    "(3*4)+5"
   ]
  },
  {
   "cell_type": "code",
   "execution_count": 4,
   "id": "b330411a-a446-4ab0-a5d5-282b22537163",
   "metadata": {},
   "outputs": [
    {
     "data": {
      "text/plain": [
       "3.3333333333333335"
      ]
     },
     "execution_count": 4,
     "metadata": {},
     "output_type": "execute_result"
    }
   ],
   "source": [
    "# This will convert 200 minutes to hours by diving by 60\n",
    "200/60"
   ]
  },
  {
   "cell_type": "markdown",
   "id": "9e47878f-e973-486c-9649-ddbc384c7936",
   "metadata": {},
   "source": [
    "__Objectives:__\n",
    "- Data Science Languages\n",
    "- Data Science Tools\n",
    "- Data Science Libraries\n",
    "- Basic Data Science Code"
   ]
  },
  {
   "cell_type": "markdown",
   "id": "690b61dc-b23d-4fb0-ba0e-a0229b1cf084",
   "metadata": {},
   "source": [
    "## Author\n",
    "Raghava"
   ]
  },
  {
   "cell_type": "code",
   "execution_count": null,
   "id": "00cb2005-eea9-4656-9fa8-349a6d27e7c5",
   "metadata": {},
   "outputs": [],
   "source": []
  }
 ],
 "metadata": {
  "kernelspec": {
   "display_name": "Python 3 (ipykernel)",
   "language": "python",
   "name": "python3"
  },
  "language_info": {
   "codemirror_mode": {
    "name": "ipython",
    "version": 3
   },
   "file_extension": ".py",
   "mimetype": "text/x-python",
   "name": "python",
   "nbconvert_exporter": "python",
   "pygments_lexer": "ipython3",
   "version": "3.12.8"
  }
 },
 "nbformat": 4,
 "nbformat_minor": 5
}
